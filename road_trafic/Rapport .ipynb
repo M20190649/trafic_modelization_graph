{
 "cells": [
  {
   "cell_type": "markdown",
   "metadata": {},
   "source": [
    "_______\n",
    "# <p style=\"text-align:center\";> TRAFIC MODELIZATION REPORT  </p>\n",
    "\n",
    "_______"
   ]
  },
  {
   "cell_type": "markdown",
   "metadata": {},
   "source": [
    "## Brief description of the project: \n",
    "_The aim of this project is to modelize a road trafic. To do so I used an open dataset:_ https://opendata.lillemetropole.fr/explore/dataset/voies_mel/table/ "
   ]
  },
  {
   "cell_type": "markdown",
   "metadata": {},
   "source": [
    "## Table of content:\n",
    "#### <a href='#section1'>[Data Processing and creation of the environment]</a>\n",
    "#### <a href='#section2'>[The model]</a>\n",
    "#### <a href='#section3'>[Modelling of the traffic through time]</a> \n",
    "#### <a href='#section4'>[Generating function of agents]</a> \n",
    "#### <a href='#section5'>[Making the graph dynamic]</a> "
   ]
  },
  {
   "cell_type": "markdown",
   "metadata": {},
   "source": [
    "<a id='section1'></a>\n",
    "## Data Processing and creation of the environment\n",
    "### Data Set\n",
    "voies_mel.csv is an open dataset giving :\n",
    "- GPS coordinates of road section in the MEL ('Métropole Lilloise')\n",
    "- The corresponding type of raod section\n",
    "- The average number of users per day for every section\n",
    "<br>\n",
    "\n",
    "### Data Processing\n",
    "The data processing consitsts in creating several Panda DataFrame from the dataset. All of the data processing is in the notebook Data Processing. The final outputs are: \n",
    "- __processed_df__ containing for every sections : the GPS coordinates of the starting point and the ending point, a boolean which states if the road is one way or not (used while we create the directed graph), _trafic_ which is the type of road (associated with an index from 0 to 11) and _weight_ which is the weight we will later associate to the corresponding edge on the graph. <br> To get this wieght, I scrapped the time travel for every section with the google map API.\n",
    "- __graph_3_processed__ : is quite the same but instead of the GPS coordinates, every node is associated with a unique index.\n",
    "<br>\n",
    "\n",
    "### Creation of a graph modeling the road network\n",
    "In order to modelize the road traffic, we will use an environment described by a weighted and directed graph (with the python library NetworkX): <br>\n",
    "- __The nodes__ : To translate a road network into a graph, the first step consists in associating a single node to each crossroads (junction point between two sections)\n",
    "- __The edges__ : The edges correspond to the road sections between two intersections. Like a crossroads, a node can have several outgoing edges\n",
    "- __The graph orientation__ : Given the possibility that a section can be one-way, it is important to use a directed graph. Thus, an edge connecting two nodes may only be traversable in one direction. This is why it was important to associate a boolen to every section during the data processing condisionning the bi-direction of an edge. \n",
    "- __The edge weighting__ : Finally, to integrate the travel time of a section into our model, we associate a penalty value (the edge weight) to each edge. This corresponds to the time required to travel the associated section\n"
   ]
  },
  {
   "cell_type": "markdown",
   "metadata": {},
   "source": [
    "<a id='section2'></a>\n",
    "# The model :\n",
    "## Modeling of a single agent:\n",
    "In order to modelize a road trafic, we will start with a non-dynamic system including a single agent. To do so, we will consider that the agent is rationnal and chose the optimal path in this oriented/weighted graph. To determine this optimal graph between two nodes, there is several existing algorithm. The one tried here are __Dijkstra__ and __A*__. Evenetualy we will use __A*__ wich is both very efficient and fast. \n",
    "<br>\n",
    "<br>"
   ]
  },
  {
   "cell_type": "markdown",
   "metadata": {},
   "source": [
    "__Explanation of the Dijkstra and A* algorithms__:\n",
    "- First to use the A* algorithm we need to define a heuristic. A heuristic is a function that takes in input one node of a graph and returns a positive value. It might be interpreted as the distance between the nodes and a defined reference node of the graph. However the heuristic function _h_ has to follow to criteras: \n",
    "    - Be __positive__ and defined for every point\n",
    "    - _h_ has to be __monotone__ : $\\forall {N_{i},N_{j}}, h(N_{i}) \\leq w(N_{i},N_{j}) + h(N_{j})  $   <br> Where $N_{i},N_{j}$ are to connected nodes of the graph and $w(N_{i},N_{j})$ is the distance/weight between those points. The heuristic might be interpreted has a strait line distance between any point and the arriving point. Because we chose to use the travel time as a weight for edges of the graph we here will define the heuristic as : <br>\n",
    "    $\\forall {N_{i} \\in G},$  $  h_{N_{final}}(N_{i}) =  $ $\\frac{Distance(N_{i},N_{final})}{HighestSpeed}$\n",
    "    "
   ]
  },
  {
   "cell_type": "markdown",
   "metadata": {},
   "source": [
    "______\n",
    "__ Pseudo code of A* :__ <br> <br>\n",
    "________\n",
    "We have:\n",
    "- A graph $G = (N,W)$, with nonnegative edge weights $w(u,v)$  \n",
    "- A starting node S and an ending node T\n",
    "- An admissible heuristic h\n",
    "<br>\n",
    "<br>\n",
    "_Let d(n) store the best path distance from S to n that we have seen so far. Then we can think of d(n) + h(n) as the estimate of the distance from S to n, then from n to T. Let Q be a queue of nodes, sorted by d(n) + h(n) :_\n",
    "<br> <br>\n",
    "$d(v)$ ← $\n",
    " \\left\\{\n",
    "    \\begin{array}{ll}\n",
    "        \\infty & \\mbox{if } v \\neq S\\\\\n",
    "        0 & \\mbox{if } v = S\n",
    "    \\end{array}\n",
    "\\right.\n",
    "$ <br>\n",
    "$Q := $ _the set of reachable nodes from V, sorted by_ $d(n) + h(n)$ <br>\n",
    "__while__ _Q is not empty_ __do__: <br>\n",
    "&nbsp;&nbsp;&nbsp;&nbsp;&nbsp;&nbsp; _V ← Q.top() &nbsp;&nbsp;   #the first node of the list Q_ <br>\n",
    "&nbsp;&nbsp;&nbsp;&nbsp;&nbsp;&nbsp; __for__ _all neighbours u of v_ ___do___ : <br>\n",
    "&nbsp;&nbsp;&nbsp;&nbsp;&nbsp;&nbsp;&nbsp;&nbsp;&nbsp;&nbsp;&nbsp;&nbsp; __if__ $d(V) + w(V,u) ≤ d(u)$ __then__: <br> \n",
    "&nbsp;&nbsp;&nbsp;&nbsp;&nbsp;&nbsp;&nbsp;&nbsp;&nbsp;&nbsp;&nbsp;&nbsp;&nbsp;&nbsp;&nbsp;&nbsp; $d(u) ← d(V) + w(V, u)$ <br>\n",
    "&nbsp;&nbsp;&nbsp;&nbsp;&nbsp;&nbsp;&nbsp;&nbsp;&nbsp;&nbsp;&nbsp;&nbsp; __ end if__ <br>\n",
    "&nbsp;&nbsp;&nbsp;&nbsp;&nbsp;&nbsp; __ end for __ <br>\n",
    "__ end while __\n",
    "<br> <br>"
   ]
  },
  {
   "cell_type": "markdown",
   "metadata": {},
   "source": [
    "<a id='section3'></a>\n",
    "## Modelling of the traffic through time\n",
    "\n",
    "Next step is to modelize the traffic. To do so, two important steps are needed:\n",
    "- __Introduction a notion of time__\n",
    "- __Multiplication of the agents in the graph__\n",
    "<br><br>\n",
    "Every step, let's consider a there is a batch of drivers willing to go from a node to another one. We compute the shortest path and consider they took this itinerary.\n",
    "But, since the trafic implies an increase of the traveling time through a section, we will need to create of function which reflects those new agents on the wieghts. \n",
    "- __Time/Flow function: The BPR model__: \n",
    "Thus, after a group of cars are released in the environment, with an itinarary, and a corresponding timetable, those cars will move into the graph through time; Changing then the number of users on every sections (the flow values are stored in the flow_edges table). _How does the trafic impact the travelling time?_ <br>\n",
    "$\\tau_{v} = L \\times m_{v} \\times [1+\\gamma_{v}*(\\frac{X_{v} + e  X_{c}}{\\kappa})^{\\alpha_{v}} ]$\n",
    "<br>where: <br>\n",
    "$ \\tau_{v} $ is the time necessary to travel through the section\n",
    "<br>\n",
    "$L$ the lenght of the section\n",
    "<br>\n",
    "$m_{v}$ is the travel time per kilometer for a car at the max speed\n",
    "<br> \n",
    "$\\gamma_{v}$ increase proportion at the saturation\n",
    "<br>\n",
    "$X_{v}$ car flow\n",
    "<br>\n",
    "$X_{c}$ heavy goods vehicles flow\n",
    "<br>\n",
    "$e$ equivalence coefficient between car and heavy good vehicles\n",
    "<br>\n",
    "$\\kappa$ hourly capacity of the road\n",
    "<br>\n",
    "$\\alpha_{v}$ traveling time sensitivity to the relativ flow at a saturation state\n",
    "<br>\n",
    "The three necessary parameters in this model are: $V_{s}$ which is more or less equal to 90% of the highest speed on the section and provides the value of $\\gamma_{v}$, $\\kappa$ and $\\alpha_{v}$. Those parameters depend on the type of roads (storred in the DataFrame graph_3) and are stored in a table: dict_para\n",
    "\n",
    "We penalize the edges (roads) of the itinerary by increasing the weight of the edge.\n",
    "Next step we compute the shortest path but with the updated network.\n",
    "Moreover, the impact of the traffic on the roads vanishes in time so every step we decrease by a certain percentage the penalization of the edges wich have been penalized during the last steps. <br>\n",
    "Following, the plot of the time necessary to drive one kilometer on a 0-type road (\"VOIE METROPOLITAINE\") depending on the density (number of users on the road):"
   ]
  },
  {
   "cell_type": "markdown",
   "metadata": {},
   "source": [
    "![](bprfunction.png)"
   ]
  },
  {
   "cell_type": "markdown",
   "metadata": {},
   "source": [
    "<br> <br>\n",
    "<a id='section4'></a>\n",
    "## Random generating function of (start, end) and the path and time list associated\n"
   ]
  },
  {
   "cell_type": "markdown",
   "metadata": {},
   "source": [
    "From now, in order to modelize the road flow, we would like a function randomly generation starting and arruving points and then compute the shortest path (using A* algorithm) and giving the associated times to go from the starting edge to the following edges. The function is : <br>\n",
    "__path_generation__ : \n",
    "<br> \n",
    "- __Input__ : \n",
    "   - graph : The graph used. Here the graph is 'Directed' but the function works for any graph inputed\n",
    "   - nb_path : The number of path we want to generates simultaneously. The default value is 1.\n",
    "   - t0 : The starting time considered. (Because we want to eventually have a dynamic system, it is important to explicite the moment it is while we generate new graphs. The default value is 0.\n",
    "   - taille_paquets : The agents are simulated in group. So we can specify a number of users for every group generated \n",
    "- __Output__ :\n",
    "    - P : A DataFrame giving for the nb_path the optimal path chosen\n",
    "    - T : A DataFrame giving for the nb_path the traveling time for every edges\n",
    "    - B : A DataFrame giving for the nb_path a boolean array with the current position of the differents agents on their path. This DataFrame will later be used in order to update the Graph weihgts. It is initialised at True for the first edge and False for the rest of the edges of the different paths.\n",
    "<br>\n",
    "\n",
    "<br>\n",
    "<br><br>"
   ]
  },
  {
   "cell_type": "markdown",
   "metadata": {},
   "source": [
    "<a id='section5'></a>\n",
    "## Making the graph dynamic\n",
    "### Flow function: modelize the evolution of the graph through time"
   ]
  },
  {
   "cell_type": "markdown",
   "metadata": {},
   "source": [
    "To modelize a dynamic trafic system, it is needed to create a DataFrame (__flow_edges__) representing the different edges of the graph and the number of users on them at any time. Thus, we can create a function that is able to update the values of this DataFrame through time: <br> __ecoulement__ : <br>\n",
    "- __input__:\n",
    "    - P : the different paths considered. eg the differents paths of the different agents driving in the network.\n",
    "    - T : A DataFrame giving for the nb_path the traveling time for every edges\n",
    "    - B : A DataFrame giving for the nb_path a boolean array with the current position of the differents agents on their path\n",
    "    - t : the time considered. The system is dynamic so this function is able to update the position the different drivers are supposed to be anytime.\n",
    "    - taille_paquets : size of the groups of users generated by __path_generation__. The default value is 100\n",
    "- __output__: \n",
    "    - arretes_modifiees : the only output here is a DataFrame giving the different edges which has been modified. (the edges which have a different flow value before and after the update). It is therefor used by the __update_weight__ function in order to update only few of the edges at every step of time and thus reduce the calculation time. Indeed, calculate the flow time function (__coef_penalisation__) for each section and modifying the value of each graph weight (82000 in our dataset) would be extremely time-consuming to calculate.\n",
    "    <br> "
   ]
  },
  {
   "cell_type": "markdown",
   "metadata": {},
   "source": [
    "### Weight update function"
   ]
  },
  {
   "cell_type": "markdown",
   "metadata": {},
   "source": [
    "The last step consists in creating a tool to update the graph (__Directed__) at every time step. To do so we create a function __update_weight__:\n",
    "- __input__:\n",
    "    - flow_edges : the DataFrame with the number of users on every edges of the graph\n",
    "    - graph :  The graph used\n",
    "    - A : a list of edges to be modifies. Wich has the same format as the output of __ecoulement__, which allows to pipe those two functions. \n",
    "<br> <br>"
   ]
  },
  {
   "cell_type": "markdown",
   "metadata": {},
   "source": [
    "## Improvement in the options of path generation\n",
    "We would like to add the possibility to chose a starting and arriving location instead of randomly picking nodes on the graph. <br> So we devellope the function __start_end_area__  that makes possible to specify a starting point, arriving point and a radius in order to get a list of potential starting and arriving points and the path_generation function has been modified (__path_generation_2__) to allow the possibility to input the output of __start_end_area__ function and then generate those specific paths. "
   ]
  },
  {
   "cell_type": "markdown",
   "metadata": {},
   "source": [
    "<br>\n",
    "<br>\n",
    "<br>\n",
    "<br>\n",
    "<br>\n",
    "\n",
    "# Simulations :\n",
    "\n",
    "From now, we have a working environment develloped which allows us to modelize the road trafic. "
   ]
  }
 ],
 "metadata": {
  "kernelspec": {
   "display_name": "Python 3",
   "language": "python",
   "name": "python3"
  },
  "language_info": {
   "codemirror_mode": {
    "name": "ipython",
    "version": 3
   },
   "file_extension": ".py",
   "mimetype": "text/x-python",
   "name": "python",
   "nbconvert_exporter": "python",
   "pygments_lexer": "ipython3",
   "version": "3.6.8"
  }
 },
 "nbformat": 4,
 "nbformat_minor": 2
}
